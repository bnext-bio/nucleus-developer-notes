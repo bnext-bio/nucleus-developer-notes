{
 "cells": [
  {
   "cell_type": "code",
   "execution_count": null,
   "metadata": {},
   "outputs": [],
   "source": [
    "#| label: app:interactive_image_barplot\n",
    "\n",
    "%matplotlib widget\n",
    "\n",
    "from src.cdk.analysis.cytosol import platereader as pr\n",
    "import pandas as pd\n",
    "import seaborn as sns\n",
    "import matplotlib.pyplot as plt\n",
    "\n",
    "import src.cdk.logging\n",
    "\n",
    "import holoviews as hv\n",
    "import hvplot.pandas\n",
    "from holoviews import opts\n",
    "\n",
    "hv.extension('bokeh')\n",
    "\n",
    "log = src.cdk.logging.setup_logging()\n",
    "pr.plot_setup()\n",
    "\n",
    "data, platemap = pr.load_platereader_data(\"tests/test_data/cytation_dna_sweep.txt\", \"tests/test_data/platemap.csv\")\n",
    "\n",
    "ss_data = pr.find_steady_state(data)\n",
    "\n",
    "vdims = [('Time_steadystate', 'Time at Steady State'), ('Data_steadystate', 'Max Intensity')]\n",
    "ds = hv.Dataset(ss_data, ['Well'], vdims)\n",
    "\n",
    "ds.to(hv.Curve, 'Well', 'Time_steadystate')\n"
   ]
  }
 ],
 "metadata": {
  "language_info": {
   "name": "python"
  }
 },
 "nbformat": 4,
 "nbformat_minor": 2
}
