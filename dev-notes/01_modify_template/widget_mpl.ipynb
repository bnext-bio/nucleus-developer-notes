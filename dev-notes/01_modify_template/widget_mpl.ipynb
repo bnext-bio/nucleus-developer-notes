{
 "cells": [
  {
   "cell_type": "code",
   "execution_count": 2,
   "metadata": {},
   "outputs": [
    {
     "data": {
      "application/vnd.jupyter.widget-view+json": {
       "model_id": "d49032636d26433a82eb53a3962b3ed3",
       "version_major": 2,
       "version_minor": 0
      },
      "text/plain": [
       "interactive(children=(ToggleButtons(description='Speed:', options=('Artifact', 'Concentration'), tooltips=('De…"
      ]
     },
     "metadata": {},
     "output_type": "display_data"
    }
   ],
   "source": [
    "#| label: app:interactive_image_curve_mpl\n",
    "\n",
    "%matplotlib widget\n",
    "\n",
    "from src.cdk.analysis.cytosol import platereader as pr\n",
    "import pandas as pd\n",
    "import seaborn as sns\n",
    "import matplotlib.pyplot as plt\n",
    "import ipywidgets as widgets\n",
    "\n",
    "import src.cdk.logging\n",
    "\n",
    "pr.plot_setup()\n",
    "\n",
    "data, platemap = pr.load_platereader_data(\"tests/test_data/cytation_dna_sweep.txt\", \"tests/test_data/platemap.csv\")\n",
    "data\n",
    "\n",
    "# Enable interactive plotting\n",
    "%matplotlib inline\n",
    "\n",
    "def mpl_plot_experiment(experiment):\n",
    "\n",
    "    df = data[data['Experiment'] == experiment]\n",
    "\n",
    "    well_list = df['Well'].unique().tolist()\n",
    "\n",
    "    for well in well_list:\n",
    "        well_seconds = df.loc[df['Well'] == well, 'Seconds']\n",
    "        well_data = df.loc[df['Well'] == well, 'Data']\n",
    "        plt.plot(well_seconds, well_data, label=str(well), color=\"blue\") \n",
    "\n",
    "    # Add labels, legend, and title\n",
    "    plt.xlabel(\"time [s]\")\n",
    "    plt.ylabel(\"RFU\")\n",
    "    plt.title(experiment)\n",
    "    plt.legend()\n",
    "\n",
    "    plt.show();\n",
    "\n",
    "# Create widgets for the parameters\n",
    "toggle = widgets.ToggleButtons(\n",
    "    options=['Artifact', 'Concentration'],\n",
    "    description='Speed:',\n",
    "    disabled=False,\n",
    "    button_style='', # 'success', 'info', 'warning', 'danger' or ''\n",
    "    tooltips=['Description of slow', 'Description of regular', 'Description of fast'],\n",
    "#     icons=['check'] * 3\n",
    ")\n",
    "\n",
    "# Use interact to link the widgets to the plotting function\n",
    "my_widget = widgets.interact(mpl_plot_experiment, experiment=toggle)\n"
   ]
  },
  {
   "cell_type": "code",
   "execution_count": null,
   "metadata": {},
   "outputs": [],
   "source": []
  }
 ],
 "metadata": {
  "kernelspec": {
   "display_name": "bnext-cdk",
   "language": "python",
   "name": "python3"
  },
  "language_info": {
   "codemirror_mode": {
    "name": "ipython",
    "version": 3
   },
   "file_extension": ".py",
   "mimetype": "text/x-python",
   "name": "python",
   "nbconvert_exporter": "python",
   "pygments_lexer": "ipython3",
   "version": "3.12.7"
  }
 },
 "nbformat": 4,
 "nbformat_minor": 2
}
