{
 "cells": [
  {
   "cell_type": "code",
   "execution_count": 4,
   "metadata": {},
   "outputs": [
    {
     "name": "stderr",
     "output_type": "stream",
     "text": [
      "Failed to solve: Optimal parameters not found: Number of calls to function has reached maxfev = 800.\n",
      "Failed to solve: Optimal parameters not found: Number of calls to function has reached maxfev = 800.\n"
     ]
    },
    {
     "data": {
      "application/vnd.jupyter.widget-view+json": {
       "model_id": "0b37bed53f684720b09bf0f8fb4366ee",
       "version_major": 2,
       "version_minor": 0
      },
      "text/plain": [
       "ToggleButtons(description='Experiment:', options=('Concentration', 'Artifact'), value='Concentration')"
      ]
     },
     "metadata": {},
     "output_type": "display_data"
    },
    {
     "data": {
      "application/vnd.jupyter.widget-view+json": {
       "model_id": "c3c95b82eb114f0a9d6b447d0d771747",
       "version_major": 2,
       "version_minor": 0
      },
      "text/plain": [
       "Dropdown(description='Property:', index=3, options=('Velocity', 'Lag', 'Steady State', 'Fit'), value='Fit')"
      ]
     },
     "metadata": {},
     "output_type": "display_data"
    },
    {
     "data": {
      "application/vnd.jupyter.widget-view+json": {
       "model_id": "98f13728ca434ac1b499667ab70e6857",
       "version_major": 2,
       "version_minor": 0
      },
      "text/plain": [
       "Dropdown(description='Item:', options=(), value=None)"
      ]
     },
     "metadata": {},
     "output_type": "display_data"
    },
    {
     "data": {
      "application/vnd.jupyter.widget-view+json": {
       "model_id": "9b9e8859e4e3413c96638bd226125cb6",
       "version_major": 2,
       "version_minor": 0
      },
      "text/plain": [
       "Output()"
      ]
     },
     "metadata": {},
     "output_type": "display_data"
    }
   ],
   "source": [
    "#| label: app:interactive_sns_fig4\n",
    "\n",
    "# %matplotlib inline\n",
    "\n",
    "from src.cdk.analysis.cytosol import platereader as pr\n",
    "import pandas as pd\n",
    "\n",
    "import seaborn as sns\n",
    "import seaborn.objects as so\n",
    "\n",
    "import matplotlib.pyplot as plt\n",
    "\n",
    "import ipywidgets as widgets\n",
    "from IPython.display import display\n",
    "from ipywidgets import Output\n",
    "\n",
    "import src.cdk.logging\n",
    "\n",
    "pr.plot_setup()\n",
    "\n",
    "# load data and calculat SS values\n",
    "data, platemap = pr.load_platereader_data(\"tests/test_data/cytation_dna_sweep.txt\", \"tests/test_data/platemap.csv\")\n",
    "kinetics = pr.kinetic_analysis(data);\n",
    "\n",
    "def interactive_kinetic_by_experiment(my_data, my_kinetics, toggle_col=\"Experiment\"):\n",
    "    \n",
    "    # Create widgets for the parameters\n",
    "    toggle = widgets.ToggleButtons(\n",
    "        options=my_data[toggle_col].unique().tolist(),\n",
    "        description=toggle_col+\":\",\n",
    "        disabled=False,\n",
    "        button_style=''\n",
    "    )\n",
    "\n",
    "    # Define the second dropdown menu (level 1)\n",
    "    level_one_dropdown = widgets.Dropdown(\n",
    "        options=[],  # Initially empty\n",
    "        value=None,\n",
    "        description='Item:',\n",
    "    )\n",
    "\n",
    "    # Define a plot placeholder\n",
    "    plot_output = Output()\n",
    "\n",
    "    # Function to update the second dropdown based on the first dropdown's selection\n",
    "    def update_items(change):\n",
    "        if change['new'] == 'Velocity':\n",
    "            level_one_dropdown.options = kinetics.columns[kinetics.columns.get_level_values(0) == 'Velocity'].get_level_values(1).tolist()\n",
    "        elif change['new'] == 'Lag':\n",
    "            level_one_dropdown.options = kinetics.columns[kinetics.columns.get_level_values(0) == 'Lag'].get_level_values(1).tolist()\n",
    "        elif change['new'] == 'Steady State':\n",
    "            level_one_dropdown.options = kinetics.columns[kinetics.columns.get_level_values(0) == 'Steady State'].get_level_values(1).tolist()\n",
    "        elif change['new'] == 'Fit':\n",
    "            level_one_dropdown.options = kinetics.columns[kinetics.columns.get_level_values(0) == 'Fit'].get_level_values(1).tolist()\n",
    "        \n",
    "        # Also reset the second dropdown value to None each time first dropdown changes\n",
    "        level_one_dropdown.value = None\n",
    "\n",
    "    # Function to update the plot based on selected dropdown values\n",
    "    def update_plot(change):\n",
    "        # Extract the selected level 0 and level 1 values\n",
    "        experiment = toggle.value\n",
    "        level_0 = level_zero_dropdown.value\n",
    "        level_1 = level_one_dropdown.value\n",
    "        \n",
    "        if level_1 is None:\n",
    "            return  # If no item is selected, do nothing\n",
    "        \n",
    "        # Create a new plot based on the selections\n",
    "        with plot_output:\n",
    "\n",
    "            # Clear previous output (including the figure)\n",
    "            plot_output.clear_output(wait=True)  # This will clear the previous plot\n",
    "\n",
    "            plt.close()\n",
    "            \n",
    "            # Plotting based on selected dropdown values\n",
    "            plt.figure(figsize=(10, 6))  # You can adjust the size of the plot\n",
    "\n",
    "            #filter kinetics by experiment\n",
    "\n",
    "            combined_df = pd.merge(my_kinetics[level_0], data[['Well', 'Name', 'Experiment']], on='Well', how='left').drop_duplicates()\n",
    "            filter_combined = combined_df[combined_df['Experiment'] == experiment]\n",
    "\n",
    "            sns.catplot(data=filter_combined, kind=\"bar\", x=\"Name\", y=level_1, height=5, aspect=1)\n",
    "            plt.suptitle(f'{level_0} - {level_1} Plot', fontsize=16)\n",
    "            plt.xticks(rotation=60, ha='right', fontsize=10)\n",
    "            plt.tight_layout\n",
    "\n",
    "            plt.show()\n",
    "\n",
    "    # Link the first dropdown to update the second dropdown options\n",
    "    level_zero_dropdown.observe(update_items, names='value')\n",
    "\n",
    "    # Link the second dropdown to the plot update function\n",
    "    level_one_dropdown.observe(update_plot, names='value')\n",
    "\n",
    "    toggle.observe(update_plot, names='value')\n",
    "\n",
    "    # Display both dropdowns and the plot\n",
    "    display(toggle, level_zero_dropdown, level_one_dropdown, plot_output)\n",
    "\n",
    "    # Call the update_items once to initialize the second dropdown options\n",
    "    update_items({'new': level_zero_dropdown.value})\n",
    "\n",
    "interactive_kinetic_by_experiment(data, kinetics, toggle_col=\"Experiment\")"
   ]
  }
 ],
 "metadata": {
  "kernelspec": {
   "display_name": "bnext-cdk",
   "language": "python",
   "name": "python3"
  },
  "language_info": {
   "codemirror_mode": {
    "name": "ipython",
    "version": 3
   },
   "file_extension": ".py",
   "mimetype": "text/x-python",
   "name": "python",
   "nbconvert_exporter": "python",
   "pygments_lexer": "ipython3",
   "version": "3.12.7"
  }
 },
 "nbformat": 4,
 "nbformat_minor": 2
}
