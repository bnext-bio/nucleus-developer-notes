{
 "cells": [
  {
   "cell_type": "code",
   "execution_count": 2,
   "metadata": {},
   "outputs": [
    {
     "data": {
      "application/vnd.jupyter.widget-view+json": {
       "model_id": "ca42c36dab5843058e43cb144868d2ab",
       "version_major": 2,
       "version_minor": 0
      },
      "text/plain": [
       "interactive(children=(ToggleButtons(description='EXPERIMENT:', options=('Artifact', 'Concentration'), tooltips…"
      ]
     },
     "metadata": {},
     "output_type": "display_data"
    }
   ],
   "source": [
    "#| label: app:interactive_image_curve_sns\n",
    "\n",
    "%matplotlib widget\n",
    "\n",
    "from src.cdk.analysis.cytosol import platereader as pr\n",
    "import pandas as pd\n",
    "\n",
    "import seaborn as sns\n",
    "import seaborn.objects as so\n",
    "\n",
    "import matplotlib.pyplot as plt\n",
    "import ipywidgets as widgets\n",
    "\n",
    "import src.cdk.logging\n",
    "\n",
    "pr.plot_setup()\n",
    "\n",
    "data, platemap = pr.load_platereader_data(\"tests/test_data/cytation_dna_sweep.txt\", \"tests/test_data/platemap.csv\")\n",
    "\n",
    "# # Enable interactive plotting\n",
    "# %matplotlib inline\n",
    "\n",
    "def sns_plot_experiment(experiment):\n",
    "\n",
    "    plt.clf()\n",
    "\n",
    "    experiment_data = data[data['Experiment'] == experiment]\n",
    "\n",
    "    for well, group in experiment_data.groupby('Well'):\n",
    "        sns.lineplot(x='Seconds', y='Data', data=group, label=well)\n",
    "\n",
    "    plt.show()\n",
    "\n",
    "# Create widgets for the parameters\n",
    "toggle = widgets.ToggleButtons(\n",
    "    options=['Artifact', 'Concentration'],\n",
    "    description='EXPERIMENT:',\n",
    "    disabled=False,\n",
    "    button_style='', # 'success', 'info', 'warning', 'danger' or ''\n",
    "    tooltips=['Description of slow', 'Description of regular', 'Description of fast'],\n",
    "#     icons=['check'] * 3\n",
    ")\n",
    "\n",
    "# Use interact to link the widgets to the plotting function\n",
    "my_widget = widgets.interact(sns_plot_experiment, experiment=toggle)\n"
   ]
  },
  {
   "cell_type": "code",
   "execution_count": null,
   "metadata": {},
   "outputs": [],
   "source": []
  }
 ],
 "metadata": {
  "kernelspec": {
   "display_name": "bnext-cdk",
   "language": "python",
   "name": "python3"
  },
  "language_info": {
   "codemirror_mode": {
    "name": "ipython",
    "version": 3
   },
   "file_extension": ".py",
   "mimetype": "text/x-python",
   "name": "python",
   "nbconvert_exporter": "python",
   "pygments_lexer": "ipython3",
   "version": "3.12.7"
  }
 },
 "nbformat": 4,
 "nbformat_minor": 2
}
