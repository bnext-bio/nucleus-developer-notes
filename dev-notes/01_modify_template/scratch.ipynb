{
 "cells": [
  {
   "cell_type": "code",
   "execution_count": null,
   "metadata": {},
   "outputs": [],
   "source": [
    "import holoviews as hv\n",
    "import numpy as np\n",
    "import matplotlib.pyplot as plt\n",
    "import matplotlib.image as mpimg\n",
    "\n",
    "import holoviews as hv\n",
    "from zenodo_client import Zenodo\n",
    "\n",
    "zenodo = Zenodo()\n",
    "OOH_NA_NA_RECORD = 14285329\n",
    "\n",
    "filename_img_d3 = 'D3-T50.png'\n",
    "\n",
    "img_d3 = zenodo.download_latest(OOH_NA_NA_RECORD, filename_img_d3) # zenodo takes 2m 29s to download a 38.2 M file on Caltech wifi\n",
    "\n",
    "hv.extension('bokeh')\n",
    "\n",
    "img_d3_open = mpimg.imread(img_d3)\n",
    "img_array = np.array(img_d3_open)\n",
    "rgb_image = hv.RGB(img_array, ['x','y'])\n",
    "rgb_image.opts(width=800, height=800)\n",
    "rgb_image"
   ]
  },
  {
   "cell_type": "code",
   "execution_count": null,
   "metadata": {},
   "outputs": [],
   "source": [
    "import holoviews as hv\n",
    "from zenodo_client import Zenodo\n",
    "\n",
    "zenodo = Zenodo()\n",
    "OOH_NA_NA_RECORD = 14285329\n",
    "\n",
    "filename_img_d3 = 'D3-T50.png'\n",
    "\n",
    "img_d3 = zenodo.download_latest(OOH_NA_NA_RECORD, filename_img_d3) # zenodo takes 2m 29s to download a 38.2 M file on Caltech wifi\n",
    "\n",
    "hv.extension('bokeh')\n",
    "\n",
    "img_d3_open = mpimg.imread(img_d3)\n",
    "img_array = np.array(img_d3_open)\n",
    "rgb_image = hv.RGB(img_array, ['x','y'])\n",
    "rgb_image.opts(width=800, height=800)\n",
    "rgb_image"
   ]
  },
  {
   "cell_type": "code",
   "execution_count": null,
   "metadata": {},
   "outputs": [],
   "source": [
    "# using Ipywidgets to manage file uploads\n",
    "\n",
    "label_1 = widgets.HTML(\"<b>Upload your platemap csv:</b>\")\n",
    "uploader_1 = widgets.FileUpload()\n",
    "label_2 = widgets.HTML(\"<b>Upload your data txt:</b>\")\n",
    "uploader_2 = widgets.FileUpload()\n",
    "\n",
    "# Place them in a row\n",
    "row = widgets.HBox([label_1, uploader_1, label_2, uploader_2])\n",
    "\n",
    "# Display the row\n",
    "display(row)\n",
    "\n",
    "# display upload\n",
    "# print(uploader_1.value)\n",
    "# print(uploader_2.value)\n",
    "\n",
    "# access uploaded file\n",
    "pmap_up = uploader_1.value[0]\n",
    "pmap_file = pmap_up.content\n",
    "\n",
    "dmap_up = uploader_2.value[0]\n",
    "dmap_file = dmap_up.content\n",
    "\n",
    "# Would have to modify some of the parsing code to handle content references rather than file paths;\n",
    "# unclear if it would be more straightforward to interact with\n",
    "\n",
    "df_platemap = pd.read_csv(io.BytesIO(pmap_file))\n",
    "df_data = pd.read_csv(io.BytesIO(dmap_file))"
   ]
  }
 ],
 "metadata": {
  "language_info": {
   "name": "python"
  }
 },
 "nbformat": 4,
 "nbformat_minor": 2
}
