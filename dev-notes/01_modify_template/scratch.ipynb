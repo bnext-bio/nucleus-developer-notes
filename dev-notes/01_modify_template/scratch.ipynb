{
 "cells": [
  {
   "cell_type": "code",
   "execution_count": null,
   "metadata": {},
   "outputs": [],
   "source": [
    "import holoviews as hv\n",
    "import numpy as np\n",
    "import matplotlib.pyplot as plt\n",
    "import matplotlib.image as mpimg\n",
    "\n",
    "import holoviews as hv\n",
    "from zenodo_client import Zenodo\n",
    "\n",
    "zenodo = Zenodo()\n",
    "OOH_NA_NA_RECORD = 14285329\n",
    "\n",
    "filename_img_d3 = 'D3-T50.png'\n",
    "\n",
    "img_d3 = zenodo.download_latest(OOH_NA_NA_RECORD, filename_img_d3) # zenodo takes 2m 29s to download a 38.2 M file on Caltech wifi\n",
    "\n",
    "hv.extension('bokeh')\n",
    "\n",
    "img_d3_open = mpimg.imread(img_d3)\n",
    "img_array = np.array(img_d3_open)\n",
    "rgb_image = hv.RGB(img_array, ['x','y'])\n",
    "rgb_image.opts(width=800, height=800)\n",
    "rgb_image"
   ]
  }
 ],
 "metadata": {
  "language_info": {
   "name": "python"
  }
 },
 "nbformat": 4,
 "nbformat_minor": 2
}
