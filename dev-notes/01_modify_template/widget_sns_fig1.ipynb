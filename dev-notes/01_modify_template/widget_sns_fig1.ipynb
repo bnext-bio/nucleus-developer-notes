{
 "cells": [
  {
   "cell_type": "code",
   "execution_count": 25,
   "metadata": {},
   "outputs": [
    {
     "data": {
      "application/vnd.jupyter.widget-view+json": {
       "model_id": "efad8d53faee40dd82bc66cbf7304ecc",
       "version_major": 2,
       "version_minor": 0
      },
      "text/plain": [
       "interactive(children=(ToggleButtons(description='Experiment:', options=('Concentration', 'Artifact'), value='C…"
      ]
     },
     "metadata": {},
     "output_type": "display_data"
    }
   ],
   "source": [
    "#| label: app:interactive_sns_fig1\n",
    "\n",
    "%matplotlib widget\n",
    "\n",
    "from src.cdk.analysis.cytosol import platereader as pr\n",
    "import pandas as pd\n",
    "\n",
    "import seaborn as sns\n",
    "import seaborn.objects as so\n",
    "\n",
    "import matplotlib.pyplot as plt\n",
    "import ipywidgets as widgets\n",
    "\n",
    "import src.cdk.logging\n",
    "\n",
    "pr.plot_setup()\n",
    "\n",
    "data, platemap = pr.load_platereader_data(\"tests/test_data/cytation_dna_sweep.txt\", \"tests/test_data/platemap.csv\")\n",
    "\n",
    "def interactive_curve_by_experiment(my_data, toggle_col='Experiment', display_by='Name'):\n",
    "\n",
    "    def sns_plot_experiment(experiment):\n",
    "\n",
    "        plt.clf()\n",
    "\n",
    "        experiment_data = my_data[my_data[toggle_col] == experiment]\n",
    "\n",
    "        for row, group in experiment_data.groupby(display_by):\n",
    "            sns.lineplot(x='Seconds', y='Data', data=group, label=row)\n",
    "\n",
    "        plt.show()\n",
    "\n",
    "    # Create widgets for the parameters\n",
    "    toggle = widgets.ToggleButtons(\n",
    "        options=my_data[toggle_col].unique().tolist(),\n",
    "        description=toggle_col+\":\",\n",
    "        disabled=False,\n",
    "        button_style=''\n",
    "    )\n",
    "\n",
    "    # Use interact to link the widgets to the plotting function\n",
    "    my_widget = widgets.interact(sns_plot_experiment, experiment=toggle)\n",
    "\n",
    "interactive_curve_by_experiment(data)"
   ]
  }
 ],
 "metadata": {
  "kernelspec": {
   "display_name": "bnext-cdk",
   "language": "python",
   "name": "python3"
  },
  "language_info": {
   "codemirror_mode": {
    "name": "ipython",
    "version": 3
   },
   "file_extension": ".py",
   "mimetype": "text/x-python",
   "name": "python",
   "nbconvert_exporter": "python",
   "pygments_lexer": "ipython3",
   "version": "3.12.7"
  }
 },
 "nbformat": 4,
 "nbformat_minor": 2
}
