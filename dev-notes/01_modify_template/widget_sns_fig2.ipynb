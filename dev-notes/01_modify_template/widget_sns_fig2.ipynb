{
 "cells": [
  {
   "cell_type": "code",
   "execution_count": 6,
   "metadata": {},
   "outputs": [
    {
     "data": {
      "application/vnd.jupyter.widget-view+json": {
       "model_id": "3ab415992415441ebd9e49ee35ca1290",
       "version_major": 2,
       "version_minor": 0
      },
      "text/plain": [
       "interactive(children=(ToggleButtons(description='EXPERIMENT:', options=('Concentration', 'Artifact'), tooltips…"
      ]
     },
     "metadata": {},
     "output_type": "display_data"
    }
   ],
   "source": [
    "#| label: app:interactive_sns_fig2\n",
    "\n",
    "%matplotlib widget\n",
    "\n",
    "from src.cdk.analysis.cytosol import platereader as pr\n",
    "import pandas as pd\n",
    "\n",
    "import seaborn as sns\n",
    "import seaborn.objects as so\n",
    "\n",
    "import matplotlib.pyplot as plt\n",
    "import ipywidgets as widgets\n",
    "\n",
    "import src.cdk.logging\n",
    "\n",
    "pr.plot_setup()\n",
    "\n",
    "data, platemap = pr.load_platereader_data(\"tests/test_data/cytation_dna_sweep.txt\", \"tests/test_data/platemap.csv\")\n",
    "ss_data = pr.find_steady_state(data)\n",
    "\n",
    "def sns_plot_experiment_bars(experiment):\n",
    "\n",
    "    plt.close()\n",
    "\n",
    "    combined_df = pd.merge(ss_data, data[['Well', 'Name', 'Experiment']], on='Well', how='left').drop_duplicates()\n",
    "    experiment_data = combined_df[combined_df['Experiment'] == experiment]\n",
    "\n",
    "    sns.catplot(data=experiment_data, kind=\"bar\", x=\"Name\", y=\"Data_steadystate\", height=5, aspect=1)\n",
    "    # Rotate x-axis labels\n",
    "    plt.xticks(rotation=60, ha='right', fontsize=10)\n",
    "    plt.tight_layout\n",
    "    plt.show()\n",
    "\n",
    "# Create widgets for the parameters\n",
    "toggle = widgets.ToggleButtons(\n",
    "    options=['Concentration', 'Artifact'],\n",
    "    description='EXPERIMENT:',\n",
    "    disabled=False,\n",
    "    button_style='', # 'success', 'info', 'warning', 'danger' or ''\n",
    "    tooltips=['Description of slow', 'Description of regular', 'Description of fast'],\n",
    "#     icons=['check'] * 3\n",
    ")\n",
    "\n",
    "# Use interact to link the widgets to the plotting function\n",
    "my_widget = widgets.interact(sns_plot_experiment_bars, experiment=toggle)"
   ]
  },
  {
   "cell_type": "code",
   "execution_count": null,
   "metadata": {},
   "outputs": [],
   "source": []
  }
 ],
 "metadata": {
  "kernelspec": {
   "display_name": "bnext-cdk",
   "language": "python",
   "name": "python3"
  },
  "language_info": {
   "codemirror_mode": {
    "name": "ipython",
    "version": 3
   },
   "file_extension": ".py",
   "mimetype": "text/x-python",
   "name": "python",
   "nbconvert_exporter": "python",
   "pygments_lexer": "ipython3",
   "version": "3.12.7"
  }
 },
 "nbformat": 4,
 "nbformat_minor": 2
}
