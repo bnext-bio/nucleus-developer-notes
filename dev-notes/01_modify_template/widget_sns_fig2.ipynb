{
 "cells": [
  {
   "cell_type": "code",
   "execution_count": 7,
   "metadata": {},
   "outputs": [
    {
     "data": {
      "application/vnd.jupyter.widget-view+json": {
       "model_id": "ba274b202b8640139e275129308cf333",
       "version_major": 2,
       "version_minor": 0
      },
      "text/plain": [
       "interactive(children=(ToggleButtons(description='Experiment:', options=('Concentration', 'Artifact'), value='C…"
      ]
     },
     "metadata": {},
     "output_type": "display_data"
    }
   ],
   "source": [
    "#| label: app:interactive_sns_fig2\n",
    "\n",
    "%matplotlib widget\n",
    "\n",
    "from src.cdk.analysis.cytosol import platereader as pr\n",
    "import pandas as pd\n",
    "\n",
    "import seaborn as sns\n",
    "import seaborn.objects as so\n",
    "\n",
    "import matplotlib.pyplot as plt\n",
    "import ipywidgets as widgets\n",
    "\n",
    "import src.cdk.logging\n",
    "\n",
    "pr.plot_setup()\n",
    "\n",
    "data, platemap = pr.load_platereader_data(\"tests/test_data/cytation_dna_sweep.txt\", \"tests/test_data/platemap.csv\")\n",
    "ss_data = pr.find_steady_state(data)\n",
    "\n",
    "def interactive_ss_by_experiment(my_data, my_ss_data, toggle_col='Experiment', display_by='Name'):\n",
    "\n",
    "    def sns_plot_experiment_bars(experiment):\n",
    "\n",
    "        plt.close()\n",
    "\n",
    "        combined_df = pd.merge(my_ss_data, my_data[['Well', 'Name', 'Experiment']], on='Well', how='left').drop_duplicates()\n",
    "        experiment_data = combined_df[combined_df['Experiment'] == experiment]\n",
    "\n",
    "        sns.catplot(data=experiment_data, kind=\"bar\", x=display_by, y=\"Data_steadystate\", height=5, aspect=1)\n",
    "        # Rotate x-axis labels\n",
    "        plt.xticks(rotation=60, ha='right', fontsize=10)\n",
    "        plt.tight_layout\n",
    "        plt.show()\n",
    "\n",
    "    # Create widgets for the parameters\n",
    "    toggle = widgets.ToggleButtons(\n",
    "        options=my_data[toggle_col].unique().tolist(),\n",
    "        description=toggle_col+\":\",\n",
    "        disabled=False,\n",
    "        button_style=''\n",
    "    )\n",
    "\n",
    "\n",
    "\n",
    "    # Use interact to link the widgets to the plotting function\n",
    "    my_widget = widgets.interact(sns_plot_experiment_bars, experiment=toggle)\n",
    "\n",
    "interactive_ss_by_experiment(data, ss_data)"
   ]
  },
  {
   "cell_type": "code",
   "execution_count": null,
   "metadata": {},
   "outputs": [],
   "source": []
  }
 ],
 "metadata": {
  "kernelspec": {
   "display_name": "bnext-cdk",
   "language": "python",
   "name": "python3"
  },
  "language_info": {
   "codemirror_mode": {
    "name": "ipython",
    "version": 3
   },
   "file_extension": ".py",
   "mimetype": "text/x-python",
   "name": "python",
   "nbconvert_exporter": "python",
   "pygments_lexer": "ipython3",
   "version": "3.12.7"
  }
 },
 "nbformat": 4,
 "nbformat_minor": 2
}
