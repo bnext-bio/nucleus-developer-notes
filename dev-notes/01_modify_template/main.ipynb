{
 "cells": [
  {
   "cell_type": "markdown",
   "metadata": {},
   "source": [
    "---\n",
    "# Ensure that this title is the same as the one in `myst.yml`\n",
    "title: Developer Notes - Core Team Template\n",
    "abstract: |\n",
    "  This tutorial describes how you visualize and extract kinetic parameters from a fluorescent plate reader experiment to enable consistent data reporting across the nucleus ecosystem. Within a few minutes, datasets can be rendered into a form suitable for sharing.\n",
    "---\n",
    "\n",
    "A shared understanding of how to interpret data from CFE systems would speed the development of measurements and standards towards improved reproducibility and address challenges in interpreting and comparing existing and future data, including data from failed experiments. Time-course measurements of the product expressed in the cytosol are favored over endpoint measurements, despite the time, labor, and costs involved, to obtain a more complete and informative view of a cytosol. This package helps to standardize the reporting of measurements as a reduced quantity, such as a mean value, with uncertainty and include a baseline from negative control measurements. The collection of such data enable reaction optimization and the development of predictive modeling tools."
   ]
  },
  {
   "cell_type": "markdown",
   "metadata": {},
   "source": [
    ":::{admonition} Step 0: experimenta setup\n",
    ":class: attention\n",
    "\n",
    "In order to make the most of this toolkit it is necessary to ensure that your has been designed following best practices to include replicates and controls. When designing an experiment we recommend following our platemap guide. Additionally, the following code makes some assumptions regarding the format of the incoming data. If you are using a Cytation instrument see our Getting started guide. Otherwise, it might be necessary to write some glue code to transform your raw data into a format compatible with this library. \n",
    ":::"
   ]
  },
  {
   "cell_type": "markdown",
   "metadata": {},
   "source": [
    ":::{admonition} Step 1: python imports\n",
    ":class: note\n",
    "\n",
    "First we import standard python packages alongside our custom library called [cdk](https://github.com/bnext-bio/bnext/blob/cdk-layout/cdk/src/cdk/analysis/cytosol/platereader.py). Currently, this package contains several functions:\n",
    "\n",
    "- `load_platereader_data()`\n",
    "- `plot_plate()`\n",
    "- `plot_curves_by_name()`\n",
    "- `plot_curves()`\n",
    "- `find_steady_state()`\n",
    "- `plot_steady_state()`\n",
    "- `kinetic_analysis()`\n",
    "- `plot_kinetic_analysis()`\n",
    "\n",
    "In what follows, we will demonstrate the use of these functions on some sample data.\n",
    ":::"
   ]
  },
  {
   "cell_type": "code",
   "execution_count": null,
   "metadata": {},
   "outputs": [],
   "source": [
    "%load_ext autoreload\n",
    "%autoreload 2\n",
    "\n",
    "from src.cdk.analysis.cytosol import platereader as pr\n",
    "import pandas as pd\n",
    "import seaborn as sns\n",
    "import matplotlib.pyplot as plt\n",
    "import hvplot.pandas\n",
    "import src.cdk.logging\n",
    "\n",
    "log = src.cdk.logging.setup_logging()\n",
    "pr.plot_setup()"
   ]
  },
  {
   "cell_type": "markdown",
   "metadata": {},
   "source": [
    ":::{admonition} step 2: load data\n",
    ":class: note\n",
    "\n",
    "Load your fluorescent timeseries data and experimental platemap. They should be formatted as .txt and .csv files, respectively. The `data` output will be used in subsequent plotting functions\n",
    "\n",
    "TODO: need to be more specific about about acceptable formatting requirements -> towards a platemap guide\n",
    "TODO: should include an \"admonition\" to try and use the code on your own data in the pop out jupyter environment. \n",
    ":::"
   ]
  },
  {
   "cell_type": "code",
   "execution_count": null,
   "metadata": {},
   "outputs": [],
   "source": [
    "data, platemap = pr.load_platereader_data(\"tests/test_data/cytation_dna_sweep.txt\", \"tests/test_data/platemap.csv\")\n",
    "data.head()"
   ]
  },
  {
   "cell_type": "markdown",
   "metadata": {},
   "source": [
    "Verify the contents of the platemap by running `platemap`. Notice that this platemap contains two separate Experiments `Concentration` and `Artifact`. The Experiment parameter will be used in some of the downstream plotting functions below. See TODO: platemap guide for more information on setting up a platemap."
   ]
  },
  {
   "cell_type": "code",
   "execution_count": null,
   "metadata": {},
   "outputs": [],
   "source": [
    "platemap"
   ]
  },
  {
   "cell_type": "markdown",
   "metadata": {},
   "source": [
    ":::{admonition} step 3: inspect data\n",
    ":class: note\n",
    "\n",
    "Use `plot_plate()` to look at plots of plate reader data, laid out the same as the plate.\n",
    ":::"
   ]
  },
  {
   "cell_type": "code",
   "execution_count": null,
   "metadata": {},
   "outputs": [],
   "source": [
    "pr.plot_plate(data);"
   ]
  },
  {
   "cell_type": "markdown",
   "metadata": {},
   "source": [
    ":::{admonition} collect timeseries data\n",
    ":class: seealso\n",
    "\n",
    "Use `plot_curves_by_name()` to plot all curves, with one plot per Experiment.\n",
    "\n",
    "NOTE: is the name of this function clear?\n",
    "NOTE: should include a note - probably in guide for platemaps - that describes what an \"Experiment\" is\n",
    ":::"
   ]
  },
  {
   "cell_type": "code",
   "execution_count": null,
   "metadata": {},
   "outputs": [],
   "source": [
    "pr.plot_curves_by_name(data=data);"
   ]
  },
  {
   "cell_type": "markdown",
   "metadata": {},
   "source": [
    ":::{admonition} collect timeseries data\n",
    ":class: seealso\n",
    "\n",
    "Use `plot_curves()` to plot curves with control over how the data is separated.\n",
    "\n",
    "NOTE: is there a more interesting use case that we can show that highlights where this is different between the function above\n",
    ":::"
   ]
  },
  {
   "cell_type": "code",
   "execution_count": null,
   "metadata": {},
   "outputs": [],
   "source": [
    "pr.plot_curves(data, hue=\"Name\", col=\"Experiment\");"
   ]
  },
  {
   "cell_type": "markdown",
   "metadata": {},
   "source": [
    ":::{admonition} calculate and plot steady state \n",
    ":class: seealso\n",
    "\n",
    "Use `find_steady_state()` to obtain a table the time and intensity of steady state fluorescence.\n",
    "\n",
    "Plot steady state fluorescence is based on our steady state definition. There are three potential ways to calculate steady state:\n",
    "1. Steady state determined by the point of minimum change (i.e., where velocity is closest to zero). This is what we do by default.\n",
    "2. Steady state determined by the maximum fluorescence value. This is the simplest to explain and understand.\n",
    "3. Steady state as calculated by the intercept of the $V_{max}$ line with the maximum data value. This tends to match our intuition about where the steady state is the least, but has pleasing symmetry with the way we calculate the lag time (intercept of $V_{max}$ with zero).\n",
    "\n",
    "NOTE: what is our definition of steady state?\n",
    "NOTE: this would be more useful if experiment_name was also in the dataframe\n",
    ":::"
   ]
  },
  {
   "cell_type": "code",
   "execution_count": null,
   "metadata": {},
   "outputs": [],
   "source": [
    "pr.find_steady_state(data)"
   ]
  },
  {
   "cell_type": "markdown",
   "metadata": {},
   "source": [
    "Use `plot_steadystate()` to plot all steady state intensities, with one plot per Experiment."
   ]
  },
  {
   "cell_type": "code",
   "execution_count": null,
   "metadata": {},
   "outputs": [],
   "source": [
    "pr.plot_steadystate(data)"
   ]
  },
  {
   "cell_type": "markdown",
   "metadata": {},
   "source": [
    ":::{admonition} note\n",
    ":class: note\n",
    "\n",
    "The `hue` argument can be used to emphasize experimental parameters described in `platemap`. For example, `[DNA Template]`.\n",
    ":::"
   ]
  },
  {
   "cell_type": "code",
   "execution_count": null,
   "metadata": {},
   "outputs": [],
   "source": [
    "pr.plot_steadystate(data, hue=\"[DNA Template] (ng/uL)\")"
   ]
  },
  {
   "cell_type": "markdown",
   "metadata": {},
   "source": [
    ":::{admonition} Kinetic analysis\n",
    ":class: seealso\n",
    "\n",
    "Use `kinetic_analysis()` to obtain a table with calculate kinetic parameters. The following parameters are calculated:\n",
    "\n",
    "- $t_{max}$ Time to reach the maximum yield of product expressed, as the time from the start of the measurement to the time to reach the maximum yield;\n",
    "- $ v_{max}$ Maximum rate of product expression, as the maximum linear rate of production;\n",
    "- $t_{lag}$, as the time from the start of the measurement to the time to reach the maximum rate of expression;\n",
    ":::"
   ]
  },
  {
   "cell_type": "markdown",
   "metadata": {},
   "source": [
    ":::{admonition} Warning\n",
    ":class: warning\n",
    "\n",
    "If kinetics can't be solved for a given well, a warning will be printed and that well will have \"Not a Number\" (NaN) or \"Not a Time\" (NaT) for the relevant parameters.\n",
    ":::"
   ]
  },
  {
   "cell_type": "code",
   "execution_count": null,
   "metadata": {},
   "outputs": [],
   "source": [
    "kinetics = pr.kinetic_analysis(data)\n",
    "kinetics"
   ]
  },
  {
   "cell_type": "code",
   "execution_count": null,
   "metadata": {},
   "outputs": [],
   "source": [
    "pr.plot_kinetics(data, kinetics)"
   ]
  },
  {
   "cell_type": "markdown",
   "metadata": {},
   "source": [
    "# TODO: include an export of the kinetic parameters and a suggestion to share them"
   ]
  },
  {
   "cell_type": "markdown",
   "metadata": {},
   "source": [
    "## Holoviz"
   ]
  },
  {
   "cell_type": "code",
   "execution_count": null,
   "metadata": {},
   "outputs": [],
   "source": [
    "data.hvplot(\n",
    "    by=['[DNA Template] (ng/uL)'],\n",
    "    groupby=['Experiment'],\n",
    "    kind='line',\n",
    "    logy=True,\n",
    "    x='Time',\n",
    "    y=['Data'],\n",
    "    legend='bottom_right',\n",
    "    widget_location='top',\n",
    "    height=500\n",
    ")\n",
    "\n",
    "data.hvplot.explorer(x=\"Time\", y=\"Data\", by=[\"Name\"], groupby=[\"Experiment\"])"
   ]
  }
 ],
 "metadata": {
  "language_info": {
   "name": "python"
  }
 },
 "nbformat": 4,
 "nbformat_minor": 2
}
