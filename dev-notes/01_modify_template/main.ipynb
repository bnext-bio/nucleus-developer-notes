{
 "cells": [
  {
   "cell_type": "markdown",
   "metadata": {},
   "source": [
    "---\n",
    "# Ensure that this title is the same as the one in `myst.yml`\n",
    "title: Developer Notes - Core Team Template\n",
    "abstract: |\n",
    "  This tutorial describes how you visualize and extract kinetic parameters from a fluorescent plate reader experiment to enable consistent data reporting across the nucleus ecosystem. Within a few minutes, datasets can be rendered into a form suitable for sharing.\n",
    "---\n",
    "\n",
    "A shared understanding of how to interpret data from CFE systems would speed the development of measurements and standards towards improved reproducibility and address challenges in interpreting and comparing existing and future data, including data from failed experiments. Time-course measurements of the product expressed in the cytosol are favored over endpoint measurements, despite the time, labor, and costs involved, to obtain a more complete and informative view of a cytosol. This package helps to standardize the reporting of measurements as a reduced quantity, such as a mean value, with uncertainty and include a baseline from negative control measurements. The collection of such data enable reaction optimization and the development of predictive modeling tools."
   ]
  },
  {
   "cell_type": "markdown",
   "metadata": {},
   "source": [
    ":::{admonition} Step 0: experimenta setup\n",
    ":class: attention\n",
    "\n",
    "In order to make the most of this toolkit it is necessary to ensure that your has been designed following best practices to include replicates and controls. When designing an experiment we recommend following our platemap guide. Additionally, the following code makes some assumptions regarding the format of the incoming data. If you are using a Cytation instrument see our Getting started guide. Otherwise, it might be necessary to write some glue code to transform your raw data into a format compatible with this library. \n",
    ":::"
   ]
  },
  {
   "cell_type": "markdown",
   "metadata": {},
   "source": [
    ":::{admonition} Step 1: python imports\n",
    ":class: note\n",
    "\n",
    "First we import standard python packages alongside our custom library called [cdk](https://github.com/bnext-bio/bnext/blob/cdk-layout/cdk/src/cdk/analysis/cytosol/platereader.py). Currently, this package contains several functions:\n",
    "\n",
    "- `load_platereader_data()`\n",
    "- `plot_plate()`\n",
    "- `plot_curves_by_name()`\n",
    "- `plot_curves()`\n",
    "- `find_steady_state()`\n",
    "- `plot_steady_state()`\n",
    "- `kinetic_analysis()`\n",
    "- `plot_kinetic_analysis()`\n",
    "\n",
    "In what follows, we will demonstrate the use of these functions on some sample data.\n",
    ":::"
   ]
  },
  {
   "cell_type": "code",
   "execution_count": null,
   "metadata": {},
   "outputs": [],
   "source": [
    "%load_ext autoreload\n",
    "%autoreload 2\n",
    "\n",
    "from cdk.analysis.cytosol import platereader as pr\n",
    "import pandas as pd\n",
    "import seaborn as sns\n",
    "import matplotlib.pyplot as plt\n",
    "import hvplot.pandas\n",
    "import cdk.logging\n",
    "\n",
    "log = cdk.logging.setup_logging()\n",
    "pr.plot_setup()"
   ]
  },
  {
   "cell_type": "markdown",
   "metadata": {},
   "source": [
    ":::{admonition} step 2: load data\n",
    ":class: note\n",
    "\n",
    "Load your fluorescent timeseries data and experimental platemap. They should be formatted as .txt and .csv files, respectively. The `data` output will be used in subsequent plotting functions\n",
    ":::"
   ]
  },
  {
   "cell_type": "code",
   "execution_count": null,
   "metadata": {},
   "outputs": [],
   "source": [
    "data, platemap = pr.load_platereader_data(\"../../tests/test_data/cytation_dna_sweep.txt\", \"../../tests/test_data/platemap.csv\")\n",
    "data.head()"
   ]
  },
  {
   "cell_type": "markdown",
   "metadata": {},
   "source": [
    "Verify the contents of the platemap by running `platemap`. Notice that this platemap contains two separate Experiments `Concentration` and `Artifact`. The Experiment parameter will be used in some of the downstream plotting functions below. See TODO: platemap guide for more information on setting up a platemap."
   ]
  },
  {
   "cell_type": "code",
   "execution_count": null,
   "metadata": {},
   "outputs": [],
   "source": [
    "platemap"
   ]
  }
 ],
 "metadata": {
  "language_info": {
   "name": "python"
  }
 },
 "nbformat": 4,
 "nbformat_minor": 2
}
