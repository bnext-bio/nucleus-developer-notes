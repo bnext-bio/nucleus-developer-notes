{
 "cells": [
  {
   "cell_type": "markdown",
   "metadata": {},
   "source": [
    "---\n",
    "# Ensure that this title is the same as the one in `myst.yml`\n",
    "title: Developer Notes - Core Team Template\n",
    "abstract: |\n",
    "  A short version of the long version that is way too long to be written as a\n",
    "  short version anyway for {abbr}`CDK (Heart Rate)`.  Still, when considering the facts from first\n",
    "  principles, we find that the outcomes of this introspective approach is\n",
    "  compatible with the guidelines previously established.\n",
    "\n",
    "  In such an experiment it is then clear that the potential for further\n",
    "  development not only depends on previous relationships found but also on\n",
    "  connections made during exploitation of this novel new experimental\n",
    "  protocol.\n",
    "---\n",
    "\n",
    ":::{tip} TODO\n",
    "We should provide some default content to illustrate the format / content that we are aiming for.\n",
    "MyST\n",
    ":::\n",
    "\n",
    ":::{lorem} 5\n",
    ":::"
   ]
  }
 ],
 "metadata": {
  "language_info": {
   "name": "python"
  }
 },
 "nbformat": 4,
 "nbformat_minor": 2
}
